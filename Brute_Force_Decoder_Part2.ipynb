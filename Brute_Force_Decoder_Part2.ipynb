{
 "cells": [
  {
   "cell_type": "markdown",
   "metadata": {},
   "source": [
    "# Brute Force Attack Attack\n",
    "\n",
    "-- Rivers Xiao\n"
   ]
  },
  {
   "cell_type": "markdown",
   "metadata": {},
   "source": [
    "<img style=\"margin:10px 15px 10px 8px;\" src='http://www.quickanddirtytips.com/sites/default/files/styles/insert_small/public/images/6231/passwords.jpg?itok=LoIKkUJB' align='left'>"
   ]
  },
  {
   "cell_type": "markdown",
   "metadata": {},
   "source": [
    "\n",
    "> Brute-force attack  - trying all characters from given charsets\n"
   ]
  },
  {
   "cell_type": "markdown",
   "metadata": {},
   "source": [
    "## Generate the entire password list"
   ]
  },
  {
   "cell_type": "code",
   "execution_count": 3,
   "metadata": {
    "collapsed": true
   },
   "outputs": [],
   "source": [
    "numbers = '0123456789'\n",
    "words_upper = 'ABCDEFGHIJKLMNOPQRSTUVWXYZ'"
   ]
  },
  {
   "cell_type": "code",
   "execution_count": 5,
   "metadata": {},
   "outputs": [
    {
     "data": {
      "text/plain": [
       "'abcdefghijklmnopqrstuvwxyz'"
      ]
     },
     "execution_count": 5,
     "metadata": {},
     "output_type": "execute_result"
    }
   ],
   "source": [
    "words_lower = words_upper.lower()\n",
    "words_lower"
   ]
  },
  {
   "cell_type": "code",
   "execution_count": 6,
   "metadata": {
    "collapsed": true
   },
   "outputs": [],
   "source": [
    "words_list = list(numbers)+ list(words_upper)+list(words_lower)"
   ]
  },
  {
   "cell_type": "code",
   "execution_count": 30,
   "metadata": {},
   "outputs": [],
   "source": [
    "from itertools import combinations_with_replacement"
   ]
  },
  {
   "cell_type": "code",
   "execution_count": 36,
   "metadata": {},
   "outputs": [
    {
     "name": "stdout",
     "output_type": "stream",
     "text": [
      "\n",
      " the total passwords number is 677040 \n",
      " the last 3 combinations are [('y', 'y', 'y', 'z'), ('y', 'y', 'z', 'z'), ('y', 'z', 'z', 'z')]\n"
     ]
    }
   ],
   "source": [
    "ITERATER= combinations_with_replacement(words_list, 4)\n",
    "passwords = list(ITERATER)\n",
    "print('\\n the total passwords number is %s'%len(passwords),'\\n the last 3 combinations are {}'.format(passwords[-4:-1]))"
   ]
  },
  {
   "cell_type": "code",
   "execution_count": 38,
   "metadata": {},
   "outputs": [
    {
     "data": {
      "text/html": [
       "<div>\n",
       "<table border=\"1\" class=\"dataframe\">\n",
       "  <thead>\n",
       "    <tr style=\"text-align: right;\">\n",
       "      <th></th>\n",
       "      <th>0</th>\n",
       "      <th>1</th>\n",
       "      <th>2</th>\n",
       "      <th>3</th>\n",
       "    </tr>\n",
       "  </thead>\n",
       "  <tbody>\n",
       "    <tr>\n",
       "      <th>87289</th>\n",
       "      <td>2</td>\n",
       "      <td>5</td>\n",
       "      <td>G</td>\n",
       "      <td>l</td>\n",
       "    </tr>\n",
       "    <tr>\n",
       "      <th>227333</th>\n",
       "      <td>6</td>\n",
       "      <td>9</td>\n",
       "      <td>Q</td>\n",
       "      <td>x</td>\n",
       "    </tr>\n",
       "    <tr>\n",
       "      <th>534228</th>\n",
       "      <td>K</td>\n",
       "      <td>S</td>\n",
       "      <td>U</td>\n",
       "      <td>g</td>\n",
       "    </tr>\n",
       "    <tr>\n",
       "      <th>322755</th>\n",
       "      <td>9</td>\n",
       "      <td>K</td>\n",
       "      <td>K</td>\n",
       "      <td>Y</td>\n",
       "    </tr>\n",
       "    <tr>\n",
       "      <th>479631</th>\n",
       "      <td>G</td>\n",
       "      <td>b</td>\n",
       "      <td>f</td>\n",
       "      <td>h</td>\n",
       "    </tr>\n",
       "  </tbody>\n",
       "</table>\n",
       "</div>"
      ],
      "text/plain": [
       "        0  1  2  3\n",
       "87289   2  5  G  l\n",
       "227333  6  9  Q  x\n",
       "534228  K  S  U  g\n",
       "322755  9  K  K  Y\n",
       "479631  G  b  f  h"
      ]
     },
     "execution_count": 38,
     "metadata": {},
     "output_type": "execute_result"
    }
   ],
   "source": [
    "import pandas as pd\n",
    "data = pd.DataFrame(passwords)\n",
    "data.sample(frac=0.01, replace=True).head()"
   ]
  },
  {
   "cell_type": "markdown",
   "metadata": {},
   "source": [
    "Now that we have the entire password list, we can test them one by one on our zipfile"
   ]
  },
  {
   "cell_type": "code",
   "execution_count": null,
   "metadata": {
    "collapsed": true
   },
   "outputs": [],
   "source": []
  },
  {
   "cell_type": "markdown",
   "metadata": {},
   "source": [
    "<img style=\"margin:10px 15px 10px 8px;\" src='https://images.genius.com/f9d69c409592277342a9fdcdd2e41729.450x300x1.jpg' width=300 align='left' >\n",
    "\n",
    "but...\n",
    "\n",
    "As we discussed previously...\n",
    "\n",
    "brute force attack for single file is infeasible... \n",
    "\n",
    "it may take days if not months...\n",
    "\n",
    "to go through the entire password list...\n",
    "\n"
   ]
  },
  {
   "cell_type": "markdown",
   "metadata": {},
   "source": [
    "## Now what?"
   ]
  },
  {
   "cell_type": "markdown",
   "metadata": {},
   "source": [
    "What if we have a batch of files, let's say 1000 files to crack "
   ]
  },
  {
   "cell_type": "markdown",
   "metadata": {},
   "source": [
    "Let's utilize the power of brute force decoder"
   ]
  },
  {
   "cell_type": "markdown",
   "metadata": {},
   "source": [
    "This is a frequence list of most commonly used 4 digit password , as we can see, if we have 1000 random encrypted files, we can simply use 1234 and 1111 on each of the file, within 2000 trials ,we can expect to get around 200 file cracked"
   ]
  },
  {
   "cell_type": "markdown",
   "metadata": {},
   "source": [
    "<img src='ps.PNG' align='left'>"
   ]
  },
  {
   "cell_type": "markdown",
   "metadata": {},
   "source": [
    "Now That we've built our firt cracker, where to move next"
   ]
  },
  {
   "cell_type": "markdown",
   "metadata": {},
   "source": [
    "For more advanced cracker, we may seek more advanced tools for help "
   ]
  },
  {
   "cell_type": "markdown",
   "metadata": {},
   "source": [
    "### 强势写一波中文\n",
    "\n"
   ]
  },
  {
   "cell_type": "markdown",
   "metadata": {},
   "source": [
    "我们看到在我们自动生存的password里面，很多都没有任何意义。一般来讲没有人会用这种密码吧--fkghfkgrfe。\n",
    "\n",
    "然而，这种密码占据了所有密码里面的大多数。 \n",
    "\n",
    "如果我们能够自动生成类似与人想出来的密码，那我们的工作量将会大大减少\n",
    "\n"
   ]
  },
  {
   "cell_type": "markdown",
   "metadata": {},
   "source": [
    "没错就是机器学习！\n",
    "\n",
    "GAN model + hashcat\n",
    "\n",
    "[Github link for GAN](https://github.com/alexjc/neural-enhance) "
   ]
  },
  {
   "cell_type": "markdown",
   "metadata": {},
   "source": [
    "<img src='https://github.com/alexjc/neural-enhance/raw/master/docs/StreetView_example.gif' width=800 align='left'>"
   ]
  },
  {
   "cell_type": "markdown",
   "metadata": {},
   "source": [
    "[Links for Hashcat](https://hashcat.net/hashcat/)"
   ]
  },
  {
   "cell_type": "markdown",
   "metadata": {},
   "source": [
    "<img src='https://pbs.twimg.com/profile_images/459457619208310784/x4geY3cU_400x400.png' width=200 align='left'>"
   ]
  },
  {
   "cell_type": "markdown",
   "metadata": {},
   "source": [
    "Next lesson, we'll look into something more practical and interesting -- webscraper"
   ]
  },
  {
   "cell_type": "markdown",
   "metadata": {},
   "source": [
    "# thanks!"
   ]
  }
 ],
 "metadata": {
  "kernelspec": {
   "display_name": "Python 3",
   "language": "python",
   "name": "python3"
  },
  "language_info": {
   "codemirror_mode": {
    "name": "ipython",
    "version": 3
   },
   "file_extension": ".py",
   "mimetype": "text/x-python",
   "name": "python",
   "nbconvert_exporter": "python",
   "pygments_lexer": "ipython3",
   "version": "3.5.3"
  }
 },
 "nbformat": 4,
 "nbformat_minor": 2
}
